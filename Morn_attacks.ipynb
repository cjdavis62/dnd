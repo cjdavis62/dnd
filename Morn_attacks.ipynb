{
 "cells": [
  {
   "cell_type": "code",
   "execution_count": 1,
   "metadata": {},
   "outputs": [],
   "source": [
    "import math\n",
    "import numpy as np\n",
    "import time\n",
    "import ipywidgets as widgets"
   ]
  },
  {
   "cell_type": "code",
   "execution_count": 2,
   "metadata": {},
   "outputs": [],
   "source": [
    "np.random.seed(int(time.time()))"
   ]
  },
  {
   "cell_type": "code",
   "execution_count": 31,
   "metadata": {},
   "outputs": [],
   "source": [
    "def roll_greatsword(advantage = -1, to_hit_bonus = 14, great_weapon_mastery = False, damage_bonus = 10, verbose = True):\n",
    "    crit = 0\n",
    "    \n",
    "    # roll for hit\n",
    "    if advantage == 0:\n",
    "        roll_A = np.random.randint(1, 21)\n",
    "        roll_B = 0\n",
    "        to_hit_rolled = roll_A\n",
    "    elif advantage == 1:\n",
    "        roll_A = np.random.randint(1, 21)\n",
    "        roll_B = np.random.randint(1, 21)\n",
    "        to_hit_rolled = max(roll_A, roll_B)\n",
    "    elif advantage == -1:\n",
    "        roll_A = np.random.randint(1, 21)\n",
    "        roll_B = np.random.randint(1, 21)\n",
    "        to_hit_rolled = min(roll_A, roll_B)        \n",
    "    if to_hit_rolled == 20:\n",
    "        crit = 1\n",
    "    elif to_hit_rolled == 1:\n",
    "        crit = -1\n",
    "    \n",
    "    to_hit_rolled = to_hit_rolled + to_hit_bonus\n",
    "    \n",
    "    # Great weapon mastery changes\n",
    "    if great_weapon_mastery:\n",
    "        damage_bonus = damage_bonus + 10\n",
    "        to_hit_rolled = to_hit_rolled - 5\n",
    "        \n",
    "    # Print to hit\n",
    "    if advantage == 0:\n",
    "        if verbose: print (f\"{to_hit_rolled} to hit ({roll_A} + {to_hit_bonus - 5 * great_weapon_mastery})\")\n",
    "    else:\n",
    "        if verbose: print (f\"{to_hit_rolled} to hit ({roll_A}|{roll_B} + {to_hit_bonus - 5 * great_weapon_mastery})\")    \n",
    "    \n",
    "    # roll damage\n",
    "    if crit == 1:\n",
    "        total_damage, damage_A, damage_B = roll_greatsword_damage(damage_bonus)\n",
    "        total_damage = total_damage + 12\n",
    "        if verbose: print(f\"CRIT! dealing {total_damage} damage ({damage_A} + {damage_B} + {damage_bonus} + 12)\")\n",
    "    elif crit == -1:\n",
    "        total_damage = 0\n",
    "        if verbose: print(\"CRIT FAIL! No damage\")\n",
    "    else:\n",
    "        total_damage, damage_A, damage_B = roll_greatsword_damage(damage_bonus)\n",
    "        if verbose: print(f\"{total_damage} damage ({damage_A} + {damage_B} + {damage_bonus})\")\n",
    "    \n",
    "    return total_damage, to_hit_rolled, crit\n",
    "    \n",
    "def roll_greatsword_damage(damage_bonus):\n",
    "    damage_A = np.random.randint(1, 7)\n",
    "    damage_B = np.random.randint(1, 7)\n",
    "    if damage_A in [1,2]:\n",
    "        damage_A = np.random.randint(1,7)\n",
    "    if damage_B in [1,2]:\n",
    "        damage_B = np.random.randint(1,7)\n",
    "    return damage_A + damage_B + damage_bonus, damage_A, damage_B"
   ]
  },
  {
   "cell_type": "code",
   "execution_count": 71,
   "metadata": {},
   "outputs": [],
   "source": [
    "def roll_greatsword_attacks(num_attacks, advantage, to_hit_bonus, damage_bonus, verbose, great_weapon_mastery):\n",
    "    print(\"***\" * 10)\n",
    "    for i in range(0, num_attacks):\n",
    "        if i == 3:\n",
    "            print(\"Special Attack\")\n",
    "        roll_greatsword(advantage, to_hit_bonus, great_weapon_mastery, damage_bonus, verbose)\n",
    "        print(\"***\"* 10)"
   ]
  },
  {
   "cell_type": "code",
   "execution_count": 28,
   "metadata": {},
   "outputs": [],
   "source": [
    "def roll_lance(advantage = -1, to_hit_bonus = 14, great_weapon_mastery = False, damage_bonus = 10, verbose = True):\n",
    "    crit = 0\n",
    "    \n",
    "    \n",
    "    # roll for hit\n",
    "    if advantage == 0:\n",
    "        roll_A = np.random.randint(1, 21)\n",
    "        roll_B = 0\n",
    "        to_hit_rolled = roll_A\n",
    "    elif advantage == 1:\n",
    "        roll_A = np.random.randint(1, 21)\n",
    "        roll_B = np.random.randint(1, 21)\n",
    "        to_hit_rolled = max(roll_A, roll_B)\n",
    "    elif advantage == -1:\n",
    "        roll_A = np.random.randint(1, 21)\n",
    "        roll_B = np.random.randint(1, 21)\n",
    "        to_hit_rolled = min(roll_A, roll_B)        \n",
    "    if to_hit_rolled == 20:\n",
    "        crit = 1\n",
    "    elif to_hit_rolled == 1:\n",
    "        crit = -1\n",
    "        \n",
    "    to_hit_rolled = to_hit_rolled + to_hit_bonus\n",
    "\n",
    "    \n",
    "    # Great weapon mastery changes\n",
    "    print(great_weapon_mastery)\n",
    "    if great_weapon_mastery:\n",
    "        print(to_hit_rolled)\n",
    "        damage_bonus = damage_bonus + 10\n",
    "        to_hit_rolled = to_hit_rolled - 5\n",
    "        print(to_hit_rolled)\n",
    "\n",
    "    # roll damage\n",
    "    if crit == 1:\n",
    "        total_damage, damage_A = roll_lance_damage(damage_bonus)\n",
    "        total_damage = total_damage + 12\n",
    "        if verbose: print(f\"CRIT! dealing {total_damage} damage ({damage_A} + {damage_bonus} + 12)\")\n",
    "    elif crit == -1:\n",
    "        total_damage = 0\n",
    "        if verbose: print(\"CRIT FAIL! No damage\")\n",
    "    else:\n",
    "        total_damage, damage_A = roll_lance_damage(damage_bonus)\n",
    "        if verbose: print(f\"{total_damage} damage ({damage_A} + {damage_bonus})\")\n",
    "    \n",
    "    if advantage == 0:\n",
    "        if verbose: print (f\"{to_hit_rolled} to hit ({roll_A} + {to_hit_bonus - 5 * great_weapon_mastery})\")\n",
    "    else:\n",
    "        if verbose: print (f\"{to_hit_rolled} to hit ({roll_A}|{roll_B} + {to_hit_bonus - 5 * great_weapon_mastery})\")\n",
    "    \n",
    "    return total_damage, to_hit_rolled, crit\n",
    "    \n",
    "def roll_lance_damage(damage_bonus):\n",
    "    damage_A = np.random.randint(1, 12)\n",
    "    if damage_A in [1,2]:\n",
    "        damage_A = np.random.randint(1,12)\n",
    "    return damage_A + damage_bonus, damage_A"
   ]
  },
  {
   "cell_type": "markdown",
   "metadata": {},
   "source": [
    "# Greatsword"
   ]
  },
  {
   "cell_type": "code",
   "execution_count": 72,
   "metadata": {},
   "outputs": [
    {
     "data": {
      "application/vnd.jupyter.widget-view+json": {
       "model_id": "97d64df366de4e0b958ac894c1b81ef6",
       "version_major": 2,
       "version_minor": 0
      },
      "text/plain": [
       "interactive(children=(IntSlider(value=1, description='num_attacks', max=4, min=1), IntSlider(value=0, descript…"
      ]
     },
     "metadata": {},
     "output_type": "display_data"
    }
   ],
   "source": [
    "widgets.interact_manual(roll_greatsword_attacks, num_attacks = widgets.IntSlider(min = 1, max = 4, step = 1, value = 1), advantage=widgets.IntSlider(min=-1, max=1, step=1, value=0),\n",
    "                 to_hit_bonus=widgets.fixed(14), damage_bonus = widgets.fixed(10), verbose = widgets.fixed(True), great_weapon_mastery=widgets.Checkbox(True));"
   ]
  },
  {
   "cell_type": "code",
   "execution_count": 208,
   "metadata": {},
   "outputs": [],
   "source": [
    "def roll_punch():\n",
    "    pass"
   ]
  },
  {
   "cell_type": "markdown",
   "metadata": {},
   "source": [
    "# Lance"
   ]
  },
  {
   "cell_type": "code",
   "execution_count": 74,
   "metadata": {},
   "outputs": [
    {
     "name": "stdout",
     "output_type": "stream",
     "text": [
      "31 to hit (17 + 14)\n",
      "28 damage (8 + 20)\n"
     ]
    }
   ],
   "source": [
    "null = roll_lance(advantage = 0, verbose = True, great_weapon_mastery = True)"
   ]
  },
  {
   "cell_type": "code",
   "execution_count": 6,
   "metadata": {},
   "outputs": [],
   "source": [
    "def roll_bow():\n",
    "    pass"
   ]
  },
  {
   "cell_type": "markdown",
   "metadata": {},
   "source": [
    "# For Morn damage maths"
   ]
  },
  {
   "cell_type": "code",
   "execution_count": null,
   "metadata": {},
   "outputs": [],
   "source": [
    "for enemy_ac in range(15, 26):\n",
    "    damage_array = np.empty(0)\n",
    "    hit_array = np.empty(0)\n",
    "    miss = 0\n",
    "    for _ in range(0, 50000):\n",
    "        damage, to_hit_rolled, crit = roll_greatsword(advantage = 1, verbose = False, great_weapon_mastery = False)\n",
    "        if to_hit_rolled >= enemy_ac or crit == 1:\n",
    "            damage_array = np.append(damage_array, [damage])\n",
    "            hit_array = np.append(hit_array, [damage])\n",
    "        else:\n",
    "            damage_array = np.append(damage_array, [0])\n",
    "            miss = miss + 1\n",
    "    print(enemy_ac)\n",
    "    print(int(damage_array.sum()), round(damage_array.mean(), 1), round(damage_array.std(), 1))\n",
    "    print(int(hit_array.sum()), round(hit_array.mean(), 1), round(hit_array.std(), 1))\n",
    "    print(int(((50000 - miss) / 50000) * 100))\n",
    "    print(\"***\" * 20)"
   ]
  }
 ],
 "metadata": {
  "kernelspec": {
   "display_name": "Python 3",
   "language": "python",
   "name": "python3"
  },
  "language_info": {
   "codemirror_mode": {
    "name": "ipython",
    "version": 3
   },
   "file_extension": ".py",
   "mimetype": "text/x-python",
   "name": "python",
   "nbconvert_exporter": "python",
   "pygments_lexer": "ipython3",
   "version": "3.7.3"
  }
 },
 "nbformat": 4,
 "nbformat_minor": 4
}
