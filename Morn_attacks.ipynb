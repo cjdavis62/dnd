{
 "cells": [
  {
   "cell_type": "code",
   "execution_count": 10,
   "metadata": {},
   "outputs": [],
   "source": [
    "import math\n",
    "import numpy as np\n",
    "import time"
   ]
  },
  {
   "cell_type": "code",
   "execution_count": 15,
   "metadata": {},
   "outputs": [],
   "source": [
    "np.random.seed(int(time.time()))"
   ]
  },
  {
   "cell_type": "code",
   "execution_count": 223,
   "metadata": {},
   "outputs": [],
   "source": [
    "def roll_greatsword(advantage = -1, to_hit_bonus = 14, great_weapon_mastery = False, damage_bonus = 10, verbose = True):\n",
    "    crit = 0\n",
    "    \n",
    "    # roll for hit\n",
    "    if advantage == 0:\n",
    "        roll_A = np.random.randint(1, 21)\n",
    "        roll_B = 0\n",
    "        to_hit_rolled = roll_A\n",
    "    elif advantage == 1:\n",
    "        roll_A = np.random.randint(1, 21)\n",
    "        roll_B = np.random.randint(1, 21)\n",
    "        to_hit_rolled = max(roll_A, roll_B)\n",
    "    elif advantage == -1:\n",
    "        roll_A = np.random.randint(1, 21)\n",
    "        roll_B = np.random.randint(1, 21)\n",
    "        to_hit_rolled = min(roll_A, roll_B)        \n",
    "    if to_hit_rolled == 20:\n",
    "        crit = 1\n",
    "    elif to_hit_rolled == 1:\n",
    "        crit = -1\n",
    "    else:\n",
    "        to_hit_rolled = to_hit_rolled + to_hit_bonus\n",
    "    if advantage == 0:\n",
    "        if verbose: print (f\"{to_hit_rolled} to hit ({roll_A} + {to_hit_bonus})\")\n",
    "    else:\n",
    "        if verbose: print (f\"{to_hit_rolled} to hit ({roll_A}|{roll_B} + {to_hit_bonus})\")\n",
    "    \n",
    "    # Great weapon mastery changes\n",
    "    if great_weapon_mastery:\n",
    "        damage_bonus = damage_bonus + 10\n",
    "        to_hit_rolled = to_hit_rolled - 5\n",
    "        \n",
    "    # roll damage\n",
    "    if crit == 1:\n",
    "        total_damage, damage_A, damage_B = roll_greatsword_damage(damage_bonus)\n",
    "        total_damage = total_damage + 12\n",
    "        if verbose: print(f\"CRIT! dealing {total_damage} damage ({damage_A} + {damage_B} + {damage_bonus} + 12)\")\n",
    "    elif crit == -1:\n",
    "        total_damage = 0\n",
    "        if verbose: print(\"CRIT FAIL! No damage\")\n",
    "    else:\n",
    "        total_damage, damage_A, damage_B = roll_greatsword_damage(damage_bonus)\n",
    "        if verbose: print(f\"{total_damage} damage ({damage_A} + {damage_B} + {damage_bonus})\")\n",
    "    \n",
    "    return total_damage, to_hit_rolled, crit\n",
    "    \n",
    "def roll_greatsword_damage(damage_bonus):\n",
    "    damage_A = np.random.randint(1, 7)\n",
    "    damage_B = np.random.randint(1, 7)\n",
    "    if damage_A in [1,2]:\n",
    "        damage_A = np.random.randint(1,7)\n",
    "    if damage_B in [1,2]:\n",
    "        damage_B = np.random.randint(1,7)\n",
    "    return damage_A + damage_B + damage_bonus, damage_A, damage_B"
   ]
  },
  {
   "cell_type": "markdown",
   "metadata": {},
   "source": [
    "### no advantage"
   ]
  },
  {
   "cell_type": "code",
   "execution_count": 246,
   "metadata": {},
   "outputs": [
    {
     "name": "stdout",
     "output_type": "stream",
     "text": [
      "25 to hit (11 + 14)\n",
      "25 damage (2 + 3 + 20)\n"
     ]
    }
   ],
   "source": [
    "null = roll_greatsword(advantage = 0, verbose = True, great_weapon_mastery = True)"
   ]
  },
  {
   "cell_type": "markdown",
   "metadata": {},
   "source": [
    "### advantage"
   ]
  },
  {
   "cell_type": "code",
   "execution_count": 245,
   "metadata": {},
   "outputs": [
    {
     "name": "stdout",
     "output_type": "stream",
     "text": [
      "21 to hit (7|2 + 14)\n",
      "28 damage (2 + 6 + 20)\n"
     ]
    }
   ],
   "source": [
    "null = roll_greatsword(advantage = 1, verbose = True, great_weapon_mastery = True)"
   ]
  },
  {
   "cell_type": "markdown",
   "metadata": {},
   "source": [
    "### disadvantage"
   ]
  },
  {
   "cell_type": "code",
   "execution_count": 248,
   "metadata": {},
   "outputs": [
    {
     "name": "stdout",
     "output_type": "stream",
     "text": [
      "26 to hit (17|12 + 14)\n",
      "15 damage (2 + 3 + 10)\n"
     ]
    }
   ],
   "source": [
    "null = roll_greatsword(advantage = -1, verbose = True, great_weapon_mastery = False)"
   ]
  },
  {
   "cell_type": "code",
   "execution_count": 208,
   "metadata": {},
   "outputs": [],
   "source": [
    "def roll_punch():\n",
    "    pass"
   ]
  },
  {
   "cell_type": "code",
   "execution_count": 5,
   "metadata": {},
   "outputs": [],
   "source": [
    "def roll_lance():\n",
    "    pass"
   ]
  },
  {
   "cell_type": "code",
   "execution_count": 6,
   "metadata": {},
   "outputs": [],
   "source": [
    "def roll_bow():\n",
    "    pass"
   ]
  },
  {
   "cell_type": "markdown",
   "metadata": {},
   "source": [
    "# For Morn damage maths"
   ]
  },
  {
   "cell_type": "code",
   "execution_count": null,
   "metadata": {},
   "outputs": [],
   "source": [
    "for enemy_ac in range(15, 26):\n",
    "    damage_array = np.empty(0)\n",
    "    hit_array = np.empty(0)\n",
    "    miss = 0\n",
    "    for _ in range(0, 50000):\n",
    "        damage, to_hit_rolled, crit = roll_greatsword(advantage = 1, verbose = False, great_weapon_mastery = False)\n",
    "        if to_hit_rolled >= enemy_ac or crit == 1:\n",
    "            damage_array = np.append(damage_array, [damage])\n",
    "            hit_array = np.append(hit_array, [damage])\n",
    "        else:\n",
    "            damage_array = np.append(damage_array, [0])\n",
    "            miss = miss + 1\n",
    "    print(enemy_ac)\n",
    "    print(int(damage_array.sum()), round(damage_array.mean(), 1), round(damage_array.std(), 1))\n",
    "    print(int(hit_array.sum()), round(hit_array.mean(), 1), round(hit_array.std(), 1))\n",
    "    print(int(((50000 - miss) / 50000) * 100))\n",
    "    print(\"***\" * 20)"
   ]
  }
 ],
 "metadata": {
  "kernelspec": {
   "display_name": "Python 3",
   "language": "python",
   "name": "python3"
  },
  "language_info": {
   "codemirror_mode": {
    "name": "ipython",
    "version": 3
   },
   "file_extension": ".py",
   "mimetype": "text/x-python",
   "name": "python",
   "nbconvert_exporter": "python",
   "pygments_lexer": "ipython3",
   "version": "3.7.3"
  }
 },
 "nbformat": 4,
 "nbformat_minor": 2
}
